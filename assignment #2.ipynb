{
 "cells": [
  {
   "cell_type": "markdown",
   "metadata": {},
   "source": [
    "# 01"
   ]
  },
  {
   "cell_type": "code",
   "execution_count": 4,
   "metadata": {},
   "outputs": [
    {
     "name": "stdout",
     "output_type": "stream",
     "text": [
      "Enter Physics Marks :0\n",
      "Enter Urdu Marks    :0\n",
      "Enter English Marks :0\n",
      "Enter Math Marks    :0\n",
      "Enter chemestry Marks :0\n",
      "Grade : F\n"
     ]
    }
   ],
   "source": [
    "p_subject=eval(input('Enter Physics Marks :'))\n",
    "u_subject=eval(input('Enter Urdu Marks    :'))\n",
    "e_subject=eval(input('Enter English Marks :'))\n",
    "m_subject=eval(input('Enter Math Marks    :'))\n",
    "c_subject=eval(input('Enter chemestry Marks :'))\n",
    "req_marks=p_subject+u_subject+e_subject+m_subject+c_subject\n",
    "t_marks=500\n",
    "if req_marks>=400 and req_marks<=500:\n",
    "    print('Grade : A+')\n",
    "elif req_marks>=350 and req_marks<=400:\n",
    "    print('Grade : A')\n",
    "elif req_marks>=300 and req_marks<=350:\n",
    "    print('Grade : B')\n",
    "elif req_marks>=250 and req_marks<=300:\n",
    "    print('Grade : C')\n",
    "elif req_marks>=0 and req_marks<=250:\n",
    "    print('Grade : F')\n"
   ]
  },
  {
   "cell_type": "markdown",
   "metadata": {},
   "source": [
    "# 02"
   ]
  },
  {
   "cell_type": "code",
   "execution_count": 15,
   "metadata": {},
   "outputs": [
    {
     "name": "stdout",
     "output_type": "stream",
     "text": [
      "Enter Number :5\n",
      "odd\n"
     ]
    }
   ],
   "source": [
    "l_num=eval(input('Enter Number :'))\n",
    "\n",
    "if l_num%2==0:\n",
    "    print('even')\n",
    "elif l_num%2!=0:\n",
    "    print('odd')"
   ]
  },
  {
   "cell_type": "markdown",
   "metadata": {},
   "source": [
    "# 03"
   ]
  },
  {
   "cell_type": "code",
   "execution_count": 18,
   "metadata": {},
   "outputs": [
    {
     "data": {
      "text/plain": [
       "5"
      ]
     },
     "execution_count": 18,
     "metadata": {},
     "output_type": "execute_result"
    }
   ],
   "source": [
    "lst_ran=[12,35,93,24,66]\n",
    "len(lst_ran)\n"
   ]
  },
  {
   "cell_type": "markdown",
   "metadata": {},
   "source": [
    "# 04"
   ]
  },
  {
   "cell_type": "code",
   "execution_count": 20,
   "metadata": {},
   "outputs": [
    {
     "data": {
      "text/plain": [
       "230"
      ]
     },
     "execution_count": 20,
     "metadata": {},
     "output_type": "execute_result"
    }
   ],
   "source": [
    "lst_ran=[12,35,93,24,66]\n",
    "sum(lst_ran)"
   ]
  },
  {
   "cell_type": "markdown",
   "metadata": {},
   "source": [
    "# 05"
   ]
  },
  {
   "cell_type": "code",
   "execution_count": 21,
   "metadata": {},
   "outputs": [
    {
     "data": {
      "text/plain": [
       "93"
      ]
     },
     "execution_count": 21,
     "metadata": {},
     "output_type": "execute_result"
    }
   ],
   "source": [
    "lst_ran=[12,35,93,24,66]\n",
    "max(lst_ran)"
   ]
  },
  {
   "cell_type": "markdown",
   "metadata": {},
   "source": [
    "# 06"
   ]
  },
  {
   "cell_type": "code",
   "execution_count": 39,
   "metadata": {},
   "outputs": [
    {
     "name": "stdout",
     "output_type": "stream",
     "text": [
      "[1, 1, 2, 3]\n"
     ]
    }
   ],
   "source": [
    "a = [1, 1, 2, 3, 5, 8, 13, 21, 34, 55, 89]\n",
    "b=[]\n",
    "for elements in a:\n",
    "    if elements<5:\n",
    "        b.append(elements)\n",
    "print(b)        \n",
    "    \n",
    "    \n",
    " "
   ]
  }
 ],
 "metadata": {
  "kernelspec": {
   "display_name": "Python 3",
   "language": "python",
   "name": "python3"
  },
  "language_info": {
   "codemirror_mode": {
    "name": "ipython",
    "version": 3
   },
   "file_extension": ".py",
   "mimetype": "text/x-python",
   "name": "python",
   "nbconvert_exporter": "python",
   "pygments_lexer": "ipython3",
   "version": "3.7.4"
  }
 },
 "nbformat": 4,
 "nbformat_minor": 2
}
